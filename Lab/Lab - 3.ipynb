{
 "cells": [
  {
   "cell_type": "markdown",
   "metadata": {},
   "source": [
    "\n",
    "<a href='https://www.darshan.ac.in/'> <img src='https://www.darshan.ac.in/Content/media/DU_Logo.svg' width=\"250\" height=\"300\"/></a>\n",
    "<pre>\n",
    "<center><b><h1>Python Programming - 2101CS405</b></center>\n",
    "<center><b><h1>Lab - 3</b></center>    \n",
    "<pre>"
   ]
  },
  {
   "cell_type": "markdown",
   "metadata": {},
   "source": [
    "# for and while loop"
   ]
  },
  {
   "cell_type": "markdown",
   "metadata": {},
   "source": [
    "### 01) WAP to print 1 to 10"
   ]
  },
  {
   "cell_type": "code",
   "execution_count": 13,
   "metadata": {},
   "outputs": [
    {
     "name": "stdout",
     "output_type": "stream",
     "text": [
      "1\n",
      "2\n",
      "3\n",
      "4\n",
      "5\n",
      "6\n",
      "7\n",
      "8\n",
      "9\n",
      "10\n"
     ]
    }
   ],
   "source": [
    "# # while loop\n",
    "n=1\n",
    "while (n<=10):\n",
    "    print(n)\n",
    "    n=n+1\n",
    "\n",
    "#for loop\n",
    "for i in range (1,11):\n",
    "    print(i)"
   ]
  },
  {
   "cell_type": "markdown",
   "metadata": {},
   "source": [
    "### 02) WAP to print 1 to n"
   ]
  },
  {
   "cell_type": "code",
   "execution_count": 15,
   "metadata": {},
   "outputs": [
    {
     "name": "stdout",
     "output_type": "stream",
     "text": [
      "enter n:12\n",
      "1\n",
      "2\n",
      "3\n",
      "4\n",
      "5\n",
      "6\n",
      "7\n",
      "8\n",
      "9\n",
      "10\n",
      "11\n",
      "12\n"
     ]
    }
   ],
   "source": [
    " # while loop\n",
    "n=int(input(\"enter n:\"))\n",
    "i=1\n",
    "while (i<=n):\n",
    "    print(i)\n",
    "    i=i+1\n",
    "\n",
    "#for loop\n",
    "n=int(input(\"enter n:\"))\n",
    "for i in range (1,n+1):\n",
    "    print(i)"
   ]
  },
  {
   "cell_type": "markdown",
   "metadata": {},
   "source": [
    "### 03) WAP to print odd numbers between 1 to n"
   ]
  },
  {
   "cell_type": "code",
   "execution_count": 19,
   "metadata": {},
   "outputs": [
    {
     "name": "stdout",
     "output_type": "stream",
     "text": [
      "enter n:23\n",
      "1\n",
      "3\n",
      "5\n",
      "7\n",
      "9\n",
      "11\n",
      "13\n",
      "15\n",
      "17\n",
      "19\n",
      "21\n",
      "23\n"
     ]
    }
   ],
   "source": [
    "#for loop\n",
    "n=int(input(\"enter n:\"))\n",
    "for i in range (1,n+1):\n",
    "    if i%2!=0:\n",
    "        print(i)"
   ]
  },
  {
   "cell_type": "markdown",
   "metadata": {},
   "source": [
    "### 04) WAP to print numbers between two given numbers which is divisible by 2 but not divisible by 3"
   ]
  },
  {
   "cell_type": "code",
   "execution_count": 20,
   "metadata": {},
   "outputs": [
    {
     "name": "stdout",
     "output_type": "stream",
     "text": [
      "enter n1:5\n",
      "enter n2:9\n",
      "8\n"
     ]
    }
   ],
   "source": [
    "#for loop\n",
    "n1=int(input(\"enter n1:\"))\n",
    "n2=int(input(\"enter n2:\"))\n",
    "for i in range (n1,n2+1):\n",
    "    if i%2==0 and i%3!=0:\n",
    "        print(i)"
   ]
  },
  {
   "cell_type": "markdown",
   "metadata": {},
   "source": [
    "### 05) WAP to print sum of 1 to n numbers"
   ]
  },
  {
   "cell_type": "code",
   "execution_count": 22,
   "metadata": {},
   "outputs": [
    {
     "name": "stdout",
     "output_type": "stream",
     "text": [
      "enter n:5\n",
      "15\n"
     ]
    }
   ],
   "source": [
    "#for loop\n",
    "n=int(input(\"enter n:\"))\n",
    "sum=0\n",
    "for i in range (1,n+1):\n",
    "    sum=sum+i\n",
    "print(sum)"
   ]
  },
  {
   "cell_type": "markdown",
   "metadata": {},
   "source": [
    "### 06) WAP to print sum of series 1 + 4 + 9 + 16 + 25 + 36 + ...n"
   ]
  },
  {
   "cell_type": "code",
   "execution_count": 23,
   "metadata": {},
   "outputs": [
    {
     "name": "stdout",
     "output_type": "stream",
     "text": [
      "enter n:4\n",
      "30\n"
     ]
    }
   ],
   "source": [
    "#for loop\n",
    "n=int(input(\"enter n:\"))\n",
    "sum=0\n",
    "for i in range (1,n+1):\n",
    "    sum=sum+(i**2)\n",
    "print(sum)"
   ]
  },
  {
   "cell_type": "markdown",
   "metadata": {},
   "source": [
    "# 07) WAP to print sum of series 1 – 2 + 3 – 4 + 5 – 6 + 7 ... n"
   ]
  },
  {
   "cell_type": "code",
   "execution_count": 24,
   "metadata": {},
   "outputs": [
    {
     "name": "stdout",
     "output_type": "stream",
     "text": [
      "enter n:6\n",
      "-3\n"
     ]
    }
   ],
   "source": [
    "#for loop \n",
    "n=int(input(\"enter n:\"))\n",
    "sum=0\n",
    "for i in range (1,n+1):\n",
    "    if i%2!=0:\n",
    "        sum=sum+i\n",
    "    elif i%2==0:\n",
    "        sum=sum-i\n",
    "print(sum)"
   ]
  },
  {
   "cell_type": "markdown",
   "metadata": {},
   "source": [
    "### 08) WAP to print multiplication table of given number."
   ]
  },
  {
   "cell_type": "code",
   "execution_count": 25,
   "metadata": {},
   "outputs": [
    {
     "name": "stdout",
     "output_type": "stream",
     "text": [
      "enter n:5\n",
      "5 x 1 = 5\n",
      "5 x 2 = 10\n",
      "5 x 3 = 15\n",
      "5 x 4 = 20\n",
      "5 x 5 = 25\n",
      "5 x 6 = 30\n",
      "5 x 7 = 35\n",
      "5 x 8 = 40\n",
      "5 x 9 = 45\n",
      "5 x 10 = 50\n"
     ]
    }
   ],
   "source": [
    "#for loop \n",
    "n=int(input(\"enter n:\"))\n",
    "for i in range (1,11):\n",
    "    print(n,\"x\",i,\"=\",n*i)"
   ]
  },
  {
   "cell_type": "markdown",
   "metadata": {},
   "source": [
    "### 09) WAP to find factorial of the given number"
   ]
  },
  {
   "cell_type": "code",
   "execution_count": 30,
   "metadata": {},
   "outputs": [
    {
     "name": "stdout",
     "output_type": "stream",
     "text": [
      "enter n:5\n",
      "120\n"
     ]
    }
   ],
   "source": [
    "#for loop\n",
    "n=int(input(\"enter n:\"))\n",
    "fact=1\n",
    "for i in range (1,n+1):\n",
    "    fact=fact*i\n",
    "print(fact)"
   ]
  },
  {
   "cell_type": "markdown",
   "metadata": {},
   "source": [
    "### 10) WAP to find factors of the given number"
   ]
  },
  {
   "cell_type": "code",
   "execution_count": 2,
   "metadata": {},
   "outputs": [
    {
     "name": "stdout",
     "output_type": "stream",
     "text": [
      "enter number:10\n",
      "1\n",
      "2\n",
      "5\n",
      "10\n"
     ]
    }
   ],
   "source": [
    "#for loop\n",
    "n=int(input(\"enter number:\"))\n",
    "for i in range (1,n+1):\n",
    "    if n%i==0:\n",
    "        print(i)"
   ]
  },
  {
   "cell_type": "markdown",
   "metadata": {},
   "source": [
    "### 11) WAP to find whether the given number is prime or not."
   ]
  },
  {
   "cell_type": "code",
   "execution_count": 3,
   "metadata": {},
   "outputs": [
    {
     "name": "stdout",
     "output_type": "stream",
     "text": [
      "enter number:5\n",
      "5 is a prime number\n"
     ]
    }
   ],
   "source": [
    "#for loop\n",
    "n=int(input(\"enter number:\"))\n",
    "flag=1\n",
    "for i in range (2,int((n/2)+1)):\n",
    "    if(n%i==0):\n",
    "        flag=0\n",
    "        break\n",
    "    else:\n",
    "        flag=1\n",
    "if(flag==1):\n",
    "    print(n,\"is a prime number\")\n",
    "else:\n",
    "    print(n,\"is not a prime number\")"
   ]
  },
  {
   "cell_type": "markdown",
   "metadata": {},
   "source": [
    "### 12) WAP to print sum of digits of given number"
   ]
  },
  {
   "cell_type": "code",
   "execution_count": 3,
   "metadata": {},
   "outputs": [
    {
     "name": "stdout",
     "output_type": "stream",
     "text": [
      "enter number:12\n",
      "sum is 3\n"
     ]
    }
   ],
   "source": [
    "n=int(input(\"enter number:\"))\n",
    "sum=0\n",
    "while n>0:\n",
    "    ld=n%10\n",
    "    sum=sum+ld\n",
    "    n=int(n/10)\n",
    "print(\"sum is\",sum)"
   ]
  },
  {
   "cell_type": "markdown",
   "metadata": {},
   "source": [
    "### 13) WAP to check whether the given number is palindrome or not"
   ]
  },
  {
   "cell_type": "code",
   "execution_count": 15,
   "metadata": {},
   "outputs": [
    {
     "name": "stdout",
     "output_type": "stream",
     "text": [
      "enter number:123\n",
      "123 is not a palindrom number\n"
     ]
    }
   ],
   "source": [
    "n=int(input(\"enter number:\"))\n",
    "rev=0\n",
    "temp=n\n",
    "while n>0:\n",
    "    rev= rev*10 + n%10\n",
    "    n=int(n/10)\n",
    "if(temp==rev):\n",
    "    print(temp,\"is a palindrom number\")\n",
    "else:\n",
    "    print(temp,\"is not a palindrom number\")"
   ]
  },
  {
   "cell_type": "markdown",
   "metadata": {},
   "source": [
    "### 01) WAP to check whether the given number is Armstrong or not."
   ]
  },
  {
   "cell_type": "code",
   "execution_count": 42,
   "metadata": {},
   "outputs": [
    {
     "name": "stdout",
     "output_type": "stream",
     "text": [
      "enter number:371\n",
      "armsrong\n"
     ]
    }
   ],
   "source": [
    "n=int(input(\"enter number:\"))\n",
    "sum=0\n",
    "count=0\n",
    "while n>0:\n",
    "    ld=n%10\n",
    "    n=int(n/10)\n",
    "    count+=1\n",
    "while n>0:\n",
    "    sum+= (n%10)**count\n",
    "    n=int(n/10)\n",
    "temp=n**count\n",
    "if temp==sum:\n",
    "    print(\"armstrong\")\n",
    "else:\n",
    "    print(\"not armstrong\")"
   ]
  },
  {
   "cell_type": "markdown",
   "metadata": {},
   "source": [
    "### 02) WAP to find out prime numbers between given two numbers."
   ]
  },
  {
   "cell_type": "code",
   "execution_count": 45,
   "metadata": {},
   "outputs": [
    {
     "name": "stdout",
     "output_type": "stream",
     "text": [
      "enter number1:12\n",
      "enter number2:45\n",
      "13\n",
      "17\n",
      "19\n",
      "23\n",
      "29\n",
      "31\n",
      "37\n",
      "41\n",
      "43\n"
     ]
    }
   ],
   "source": [
    "n1=int(input(\"enter number1:\"))\n",
    "n2=int(input(\"enter number2:\"))\n",
    "\n",
    "while(n1<=n2):\n",
    "    num=2\n",
    "    while(n1//2+1>num):\n",
    "        if n1%num==0:\n",
    "            num=-1\n",
    "            break\n",
    "        num+=1\n",
    "    if num!=-1:\n",
    "        print(n1)\n",
    "    n1+=1"
   ]
  },
  {
   "cell_type": "markdown",
   "metadata": {},
   "source": [
    "### 03) WAP to calculate x^y without using any function."
   ]
  },
  {
   "cell_type": "code",
   "execution_count": 36,
   "metadata": {},
   "outputs": [
    {
     "name": "stdout",
     "output_type": "stream",
     "text": [
      "enter base x:2\n",
      "enter power y:3\n",
      "ans is: 8\n"
     ]
    }
   ],
   "source": [
    "x=int(input(\"enter base x:\"))\n",
    "y=int(input(\"enter power y:\"))\n",
    "ans=1\n",
    "while y!=0:\n",
    "    ans=ans*x\n",
    "    y=y-1\n",
    "print(\"ans is:\",ans)"
   ]
  },
  {
   "cell_type": "markdown",
   "metadata": {},
   "source": [
    "### 04) WAP to check whether the given number is perfect or not.\n",
    "[Sum of factors including 1 excluding number itself]"
   ]
  },
  {
   "cell_type": "code",
   "execution_count": 37,
   "metadata": {},
   "outputs": [
    {
     "name": "stdout",
     "output_type": "stream",
     "text": [
      "Enter the number: 6\n",
      "The entered number is a perfect number\n"
     ]
    }
   ],
   "source": [
    "num=int(input(\"Enter the number: \"))  \n",
    "sum=0  \n",
    "for i in range(1,num):  \n",
    "    if (num%i==0):  \n",
    "        sum=sum+i  \n",
    "if(sum==num):  \n",
    "    print(\"The entered number is a perfect number\")  \n",
    "else:  \n",
    "    print(\"The entered number is not a perfect number\") "
   ]
  },
  {
   "cell_type": "markdown",
   "metadata": {},
   "source": [
    "### 05) WAP to find the sum of 1 + (1+2) + (1+2+3) + (1+2+3+4)+...+(1+2+3+4+....+n)"
   ]
  },
  {
   "cell_type": "code",
   "execution_count": 22,
   "metadata": {},
   "outputs": [
    {
     "name": "stdout",
     "output_type": "stream",
     "text": [
      "enter n:4\n",
      "sum is: 20\n"
     ]
    }
   ],
   "source": [
    "n=int(input(\"enter n:\"))\n",
    "sum=0\n",
    "for i in range (1,n+1):\n",
    "    for j in range (1,i+1):\n",
    "        sum=sum+j\n",
    "        \n",
    "print(\"sum is:\",sum)\n",
    "        "
   ]
  },
  {
   "cell_type": "markdown",
   "metadata": {},
   "source": [
    "### 06) WAP to print Multiplication Table up to n"
   ]
  },
  {
   "cell_type": "code",
   "execution_count": 29,
   "metadata": {},
   "outputs": [
    {
     "name": "stdout",
     "output_type": "stream",
     "text": [
      "enter n:5\n",
      "1 x 1 = 5\n",
      "1 x 2 = 10\n",
      "1 x 3 = 15\n",
      "1 x 4 = 20\n",
      "1 x 5 = 25\n",
      "1 x 6 = 30\n",
      "1 x 7 = 35\n",
      "1 x 8 = 40\n",
      "1 x 9 = 45\n",
      "1 x 10 = 50\n",
      "2 x 1 = 5\n",
      "2 x 2 = 10\n",
      "2 x 3 = 15\n",
      "2 x 4 = 20\n",
      "2 x 5 = 25\n",
      "2 x 6 = 30\n",
      "2 x 7 = 35\n",
      "2 x 8 = 40\n",
      "2 x 9 = 45\n",
      "2 x 10 = 50\n",
      "3 x 1 = 5\n",
      "3 x 2 = 10\n",
      "3 x 3 = 15\n",
      "3 x 4 = 20\n",
      "3 x 5 = 25\n",
      "3 x 6 = 30\n",
      "3 x 7 = 35\n",
      "3 x 8 = 40\n",
      "3 x 9 = 45\n",
      "3 x 10 = 50\n",
      "4 x 1 = 5\n",
      "4 x 2 = 10\n",
      "4 x 3 = 15\n",
      "4 x 4 = 20\n",
      "4 x 5 = 25\n",
      "4 x 6 = 30\n",
      "4 x 7 = 35\n",
      "4 x 8 = 40\n",
      "4 x 9 = 45\n",
      "4 x 10 = 50\n",
      "5 x 1 = 5\n",
      "5 x 2 = 10\n",
      "5 x 3 = 15\n",
      "5 x 4 = 20\n",
      "5 x 5 = 25\n",
      "5 x 6 = 30\n",
      "5 x 7 = 35\n",
      "5 x 8 = 40\n",
      "5 x 9 = 45\n",
      "5 x 10 = 50\n"
     ]
    }
   ],
   "source": [
    "#for loop \n",
    "n=int(input(\"enter n:\"))\n",
    "for i in range (1,n+1):\n",
    "    for j in range (1,11):\n",
    "        print(i,\"x\",j,\"=\",n*j)"
   ]
  }
 ],
 "metadata": {
  "kernelspec": {
   "display_name": "Python 3 (ipykernel)",
   "language": "python",
   "name": "python3"
  },
  "language_info": {
   "codemirror_mode": {
    "name": "ipython",
    "version": 3
   },
   "file_extension": ".py",
   "mimetype": "text/x-python",
   "name": "python",
   "nbconvert_exporter": "python",
   "pygments_lexer": "ipython3",
   "version": "3.9.13"
  }
 },
 "nbformat": 4,
 "nbformat_minor": 4
}
