{
 "cells": [
  {
   "cell_type": "markdown",
   "metadata": {},
   "source": [
    "\n",
    "<a href='https://www.darshan.ac.in/'> <img src='https://www.darshan.ac.in/Content/media/DU_Logo.svg' width=\"250\" height=\"300\"/></a>\n",
    "<pre>\n",
    "<center><b><h1>Python Programming - 2101CS405</b></center>\n",
    "<center><b><h1>Lab - 4</b></center>    \n",
    "<pre>"
   ]
  },
  {
   "cell_type": "markdown",
   "metadata": {},
   "source": [
    "# String"
   ]
  },
  {
   "cell_type": "markdown",
   "metadata": {},
   "source": [
    "### 01) WAP to check given string is palindrome or not."
   ]
  },
  {
   "cell_type": "code",
   "execution_count": 3,
   "metadata": {},
   "outputs": [
    {
     "name": "stdout",
     "output_type": "stream",
     "text": [
      "Enter Stringjeet\n",
      "String is not palindrome\n"
     ]
    }
   ],
   "source": [
    "s=input(\"Enter String\")\n",
    "pali_s = s[::-1]\n",
    "if pali_s==s:\n",
    "    print(\"String is palindrome\")\n",
    "else:\n",
    "    print(\"String is not palindrome\")"
   ]
  },
  {
   "cell_type": "markdown",
   "metadata": {},
   "source": [
    "### 02) WAP to reverse the words in given string."
   ]
  },
  {
   "cell_type": "code",
   "execution_count": 37,
   "metadata": {},
   "outputs": [
    {
     "name": "stdout",
     "output_type": "stream",
     "text": [
      "Enter string : jeet kalariya\n",
      "kalariya jeet\n"
     ]
    }
   ],
   "source": [
    "string = input('Enter string : ')\n",
    "s = string.split()[::-1]\n",
    "l = []\n",
    "for i in s:\n",
    "    l.append(i)\n",
    "print(\" \".join(l))"
   ]
  },
  {
   "cell_type": "markdown",
   "metadata": {},
   "source": [
    "### 03) WAP to remove ith character from given string"
   ]
  },
  {
   "cell_type": "code",
   "execution_count": 9,
   "metadata": {},
   "outputs": [
    {
     "name": "stdout",
     "output_type": "stream",
     "text": [
      "Enter Stringjeetabho\n",
      "Enter ith char...5\n",
      "jeetbho\n"
     ]
    }
   ],
   "source": [
    "s=input(\"Enter String\")\n",
    "r=int(input(\"Enter ith char...\"))\n",
    "s1=s[:r-1:]\n",
    "s2=s[r::]\n",
    "print(s1+s2)"
   ]
  },
  {
   "cell_type": "markdown",
   "metadata": {},
   "source": [
    "### 04) WAP to find length of String without using len function."
   ]
  },
  {
   "cell_type": "code",
   "execution_count": 10,
   "metadata": {},
   "outputs": [
    {
     "name": "stdout",
     "output_type": "stream",
     "text": [
      "Enter Stringjeet\n",
      "4\n"
     ]
    }
   ],
   "source": [
    "s=input(\"Enter String\")\n",
    "len=0\n",
    "for i in s:\n",
    "    len+= 1\n",
    "print(len)"
   ]
  },
  {
   "cell_type": "markdown",
   "metadata": {},
   "source": [
    "### 05) WAP to print even length word in string."
   ]
  },
  {
   "cell_type": "code",
   "execution_count": 2,
   "metadata": {},
   "outputs": [
    {
     "name": "stdout",
     "output_type": "stream",
     "text": [
      "Enter Stringjeet patel\n",
      "jeet\n"
     ]
    }
   ],
   "source": [
    "str=input(\"Enter String\")\n",
    "s=str.split(\" \")\n",
    "for i in s:\n",
    "    if len(i)%2==0:\n",
    "        print(i)"
   ]
  },
  {
   "cell_type": "markdown",
   "metadata": {},
   "source": [
    "### 06) WAP to count numbers of vowels in given string."
   ]
  },
  {
   "cell_type": "code",
   "execution_count": 18,
   "metadata": {},
   "outputs": [
    {
     "name": "stdout",
     "output_type": "stream",
     "text": [
      "Enter Stringjeet\n",
      "2\n"
     ]
    }
   ],
   "source": [
    "s=input(\"Enter String\")\n",
    "count=0\n",
    "lower=s.lower()\n",
    "for i in lower:\n",
    "    if(i=='a' or i=='e' or i=='i' or i=='o' or i=='u'):\n",
    "        count=count+1\n",
    "print(count)"
   ]
  },
  {
   "cell_type": "markdown",
   "metadata": {},
   "source": [
    "### 07) WAP to convert given array to string."
   ]
  },
  {
   "cell_type": "code",
   "execution_count": 17,
   "metadata": {},
   "outputs": [
    {
     "name": "stdout",
     "output_type": "stream",
     "text": [
      "jeet abhi dipesh\n"
     ]
    }
   ],
   "source": [
    "arr=[\"jeet\",\"abhi\",\"dipesh\"]\n",
    "arr_s=\" \".join(arr)\n",
    "print(arr_s)"
   ]
  },
  {
   "cell_type": "markdown",
   "metadata": {},
   "source": [
    "### 01) WAP to find out duplicate characters in given string."
   ]
  },
  {
   "cell_type": "code",
   "execution_count": 1,
   "metadata": {},
   "outputs": [
    {
     "name": "stdout",
     "output_type": "stream",
     "text": [
      "Enter String: jeet patel\n",
      "{'t', 'e'}\n"
     ]
    }
   ],
   "source": [
    "list = []\n",
    "str1 = input(\"Enter String: \")\n",
    "for i in str1:\n",
    "    if str1.count(i) > 1:\n",
    "        list.append(i)\n",
    "element = set(list)\n",
    "print(element)"
   ]
  },
  {
   "cell_type": "markdown",
   "metadata": {},
   "source": [
    "### 02) WAP to capitalize the first and last character of each word in a string."
   ]
  },
  {
   "cell_type": "code",
   "execution_count": 2,
   "metadata": {},
   "outputs": [
    {
     "name": "stdout",
     "output_type": "stream",
     "text": [
      "Enter String : jeet patel\n",
      "Jeet pateL\n"
     ]
    }
   ],
   "source": [
    "str1 = input(\"Enter String : \")\n",
    "str1 = str1[0].upper()+str1[1:len(str1)-1]+str1[-1].upper()\n",
    "print(str1)"
   ]
  },
  {
   "cell_type": "markdown",
   "metadata": {},
   "source": [
    "### 03) WAP to find Maximum frequency character in String."
   ]
  },
  {
   "cell_type": "code",
   "execution_count": 3,
   "metadata": {},
   "outputs": [
    {
     "name": "stdout",
     "output_type": "stream",
     "text": [
      "Enter String : jeet patel\n",
      "e\n"
     ]
    }
   ],
   "source": [
    "str1 = input(\"Enter String : \")\n",
    "frequency = {}\n",
    "for i in str1:\n",
    "    if i in frequency:\n",
    "        frequency[i] = frequency[i] + 1\n",
    "    else:\n",
    "        frequency[i] = 1\n",
    "result = max(frequency, key=frequency.get)\n",
    "print(result)"
   ]
  },
  {
   "cell_type": "markdown",
   "metadata": {},
   "source": [
    "### 04) WAP to find Minimum frequency character in String."
   ]
  },
  {
   "cell_type": "code",
   "execution_count": 4,
   "metadata": {},
   "outputs": [
    {
     "name": "stdout",
     "output_type": "stream",
     "text": [
      "Enter String : jeet patel\n",
      "j\n"
     ]
    }
   ],
   "source": [
    "str1 = input(\"Enter String : \")\n",
    "frequency = {}\n",
    "for i in str1:\n",
    "    if i in frequency:\n",
    "        frequency[i] = frequency[i] + 1\n",
    "    else:\n",
    "        frequency[i] = 1\n",
    "result = min(frequency, key=frequency.get)\n",
    "print(result)"
   ]
  },
  {
   "cell_type": "markdown",
   "metadata": {},
   "source": [
    "### 05) WAP to check if a given string is binary string or not"
   ]
  },
  {
   "cell_type": "code",
   "execution_count": 5,
   "metadata": {},
   "outputs": [
    {
     "name": "stdout",
     "output_type": "stream",
     "text": [
      "Enter String : jeet patel\n",
      "Not Binary\n"
     ]
    }
   ],
   "source": [
    "str1 = input(\"Enter String : \")\n",
    "if str1.count(\"0\")+str1.count(\"1\") == len(str1):\n",
    "    print(\"Binary\")\n",
    "else:\n",
    "    print(\"Not Binary\")"
   ]
  }
 ],
 "metadata": {
  "kernelspec": {
   "display_name": "Python 3 (ipykernel)",
   "language": "python",
   "name": "python3"
  },
  "language_info": {
   "codemirror_mode": {
    "name": "ipython",
    "version": 3
   },
   "file_extension": ".py",
   "mimetype": "text/x-python",
   "name": "python",
   "nbconvert_exporter": "python",
   "pygments_lexer": "ipython3",
   "version": "3.9.13"
  }
 },
 "nbformat": 4,
 "nbformat_minor": 4
}
