{
 "cells": [
  {
   "cell_type": "markdown",
   "metadata": {},
   "source": [
    "<a href='https://www.darshan.ac.in/'> <img src='https://www.darshan.ac.in/Content/media/DU_Logo.svg' width=\"250\" height=\"300\"/></a>\n",
    "<pre>\n",
    "<center><b><h1>Python Programming - 2101CS405</b></center>\n",
    "<center><b><h1>Lab - 12</b></center>    \n",
    "<pre>"
   ]
  },
  {
   "cell_type": "markdown",
   "metadata": {},
   "source": [
    "# OOP"
   ]
  },
  {
   "cell_type": "markdown",
   "metadata": {},
   "source": [
    "### 01) Write a Program to create a class by name Students, and initialize attributes like name, age, and grade while creating an object."
   ]
  },
  {
   "cell_type": "code",
   "execution_count": 2,
   "metadata": {},
   "outputs": [
    {
     "name": "stdout",
     "output_type": "stream",
     "text": [
      "Name is :  Darshan uni\n",
      "Age is :  30\n",
      "grade is :  A+\n"
     ]
    }
   ],
   "source": [
    "class Students:\n",
    "    def __init__(self,name,age,grade):\n",
    "        self.name=name\n",
    "        self.age=age\n",
    "        self.grade=grade\n",
    "        \n",
    "    def printit(self):\n",
    "        print(\"Name is : \",self.name)\n",
    "        print(\"Age is : \",self.age)\n",
    "        print(\"grade is : \",self.grade)\n",
    "        \n",
    "s1=Students(\"Darshan uni\",30,'A+')\n",
    "s1.printit()"
   ]
  },
  {
   "cell_type": "markdown",
   "metadata": {},
   "source": [
    "### 02) Create a class named Bank_Account with Account_No, User_Name, Email,Account_Type and Account_Balance data members. Also create a method GetAccountDetails() and DisplayAccountDetails(). Create main method to demonstrate the Bank_Account class."
   ]
  },
  {
   "cell_type": "code",
   "execution_count": 4,
   "metadata": {},
   "outputs": [
    {
     "name": "stdout",
     "output_type": "stream",
     "text": [
      "Account number is : 101\n",
      "User_Name is : darshan\n",
      "Email is : abc@gmail.com\n",
      "Account_Type is : current\n",
      "Account_Balance is : 10000\n"
     ]
    }
   ],
   "source": [
    "class Bank_Account:\n",
    "    def GetAccountDetails(self,Account_No,User_Name,Email,Account_Type,Account_Balance):\n",
    "        self.Account_No=Account_No\n",
    "        self.User_Name=User_Name\n",
    "        self.Email=Email\n",
    "        self.Account_Type=Account_Type\n",
    "        self.Account_Balance=Account_Balance\n",
    "    def DisplayAccountDetails(self):\n",
    "        print('Account number is :',self.Account_No)\n",
    "        print('User_Name is :',self.User_Name)\n",
    "        print('Email is :',self.Email)\n",
    "        print('Account_Type is :',self.Account_Type)\n",
    "        print('Account_Balance is :',self.Account_Balance)\n",
    "b1=Bank_Account()\n",
    "b1.GetAccountDetails(101,'darshan','abc@gmail.com','current','10000')\n",
    "b1.DisplayAccountDetails()"
   ]
  },
  {
   "cell_type": "markdown",
   "metadata": {},
   "source": [
    "### 03) WAP to create Circle class with area and perimeter function to find area and perimeter of circle."
   ]
  },
  {
   "cell_type": "code",
   "execution_count": 6,
   "metadata": {},
   "outputs": [
    {
     "name": "stdout",
     "output_type": "stream",
     "text": [
      "enter radius: 7\n",
      "area of circle is : 153.86\n",
      "perimeter of circle is : 43.96\n"
     ]
    }
   ],
   "source": [
    "class Circle:\n",
    "    def __init__(self,r):\n",
    "        self.r=r\n",
    "    def circle_Area(self):\n",
    "        print(\"area of circle is :\",3.14*self.r**2)\n",
    "    def circle_perimeter(self):\n",
    "        print(\"perimeter of circle is :\",2*3.14*self.r)\n",
    "radius=int(input(\"enter radius: \"))\n",
    "c1=Circle(radius)\n",
    "c1.circle_Area()\n",
    "c1.circle_perimeter()"
   ]
  },
  {
   "cell_type": "markdown",
   "metadata": {},
   "source": [
    "### 04) Create a class for employees that includes attributes such as name, age, salary, and methods to update and display employee information."
   ]
  },
  {
   "cell_type": "code",
   "execution_count": 11,
   "metadata": {},
   "outputs": [
    {
     "name": "stdout",
     "output_type": "stream",
     "text": [
      "name is: jeet\n",
      "age is: 19\n",
      "salary is: 2000000\n",
      "enter 1 to update name \n",
      "enter 2 to update age \n",
      "enter 3 to update salary\n",
      "enter 4 to exit\n",
      "enter the choice1\n",
      "etner the name you want:jeet kalariya\n",
      "enter 1 to update name \n",
      "enter 2 to update age \n",
      "enter 3 to update salary\n",
      "enter 4 to exit\n",
      "enter the choice4\n",
      "name is: jeet kalariya\n",
      "age is: 19\n",
      "salary is: 2000000\n"
     ]
    }
   ],
   "source": [
    "class Employees:\n",
    "    def __init__(self,name, age, salary):\n",
    "        self.name=name\n",
    "        self.age=age\n",
    "        self.salary=salary\n",
    "        \n",
    "    def setname(self,name):\n",
    "        self.name=name\n",
    "        \n",
    "    def setage(self,age):\n",
    "        self.age=age\n",
    "        \n",
    "    def setsalary(self,salary):\n",
    "        self.salary=salary\n",
    "    \n",
    "    def display(self):\n",
    "        print(\"name is:\",self.name)\n",
    "        print(\"age is:\",self.age)\n",
    "        print(\"salary is:\",self.salary)\n",
    "    \n",
    "e=Employees('jeet',19,2000000)\n",
    "e.display()\n",
    "\n",
    "while(True):\n",
    "    print(\"enter 1 to update name \\nenter 2 to update age \\nenter 3 to update salary\\nenter 4 to exit\")\n",
    "    n=int(input(\"enter the choice\"))\n",
    "    if n==1:\n",
    "        new_name=input(\"enter the name you want:\")\n",
    "        e.setname(new_name)\n",
    "    elif n==2:\n",
    "        new_age=input(\"enter the age you want:\")\n",
    "        e.setage(new_age)\n",
    "    elif n==3:\n",
    "        new_age=input(\"enter the salary you want:\")\n",
    "        e.setsalary(new_salary)\n",
    "    else:\n",
    "        break\n",
    "e.display()"
   ]
  },
  {
   "cell_type": "markdown",
   "metadata": {},
   "source": [
    "### 05) Create a bank account class with methods to deposit, withdraw, and check balance."
   ]
  },
  {
   "cell_type": "code",
   "execution_count": 19,
   "metadata": {},
   "outputs": [
    {
     "name": "stdout",
     "output_type": "stream",
     "text": [
      "your current balance is: 15000\n",
      "enter amount you want to deposit: 5000\n",
      "your balance is: 20000\n",
      "enter amount you want to withdraw: 2000\n",
      "your balance is: 18000\n"
     ]
    }
   ],
   "source": [
    "class Bank_account:\n",
    "    def __init__(self,balance):\n",
    "        self.balance=balance\n",
    "        \n",
    "    def display_data(self):\n",
    "        print(\"your current balance is:\",self.balance)\n",
    "        \n",
    "    def deposit(self):\n",
    "        n=int(input(\"enter amount you want to deposit: \"))\n",
    "        self.balance=self.balance+n\n",
    "        print(\"your balance is:\",self.balance)\n",
    "        \n",
    "    def withdraw(self):\n",
    "        n=int(input(\"enter amount you want to withdraw: \"))\n",
    "        self.balance=self.balance-n\n",
    "        print(\"your balance is:\",self.balance) \n",
    "        \n",
    "b=Bank_account(15000)\n",
    "b.display_data()\n",
    "b.deposit()\n",
    "b.withdraw()"
   ]
  },
  {
   "cell_type": "markdown",
   "metadata": {},
   "source": [
    "### 06) Create a class for managing inventory that includes attributes such as item name, price, quantity, and methods to add, remove, and update items."
   ]
  },
  {
   "cell_type": "code",
   "execution_count": 23,
   "metadata": {},
   "outputs": [
    {
     "name": "stdout",
     "output_type": "stream",
     "text": [
      "Enter Namea\n",
      "Enter Nameb\n",
      "Enter Namec\n",
      "Enter Named\n",
      "Enter Namee\n",
      "name is : a\n",
      "price is : 15\n",
      "quantity is : 100\n",
      "------------------------------------------\n",
      "name is : b\n",
      "price is : 15\n",
      "quantity is : 100\n",
      "------------------------------------------\n",
      "name is : c\n",
      "price is : 15\n",
      "quantity is : 100\n",
      "------------------------------------------\n",
      "name is : d\n",
      "price is : 15\n",
      "quantity is : 100\n",
      "------------------------------------------\n",
      "name is : e\n",
      "price is : 15\n",
      "quantity is : 100\n",
      "------------------------------------------\n"
     ]
    }
   ],
   "source": [
    "class Item:\n",
    "    def __init__(self):\n",
    "        self.name= input(\"Enter Name\")\n",
    "        self.price=input(\"Enter price\")\n",
    "        self.quantity=input(\"Enter quantity\")\n",
    "        \n",
    "    def display(self):\n",
    "        print(\"name is :\",self.name)\n",
    "        print(\"price is :\",self.price)\n",
    "        print(\"quantity is :\",self.quantity)\n",
    "        \n",
    "class Inventory:\n",
    "    \n",
    "    def __init__(self):\n",
    "        self.L = []\n",
    "    \n",
    "    def addItem(self):\n",
    "        i = Item()\n",
    "        self.L.append(i)\n",
    "    \n",
    "    def displayItem(self):\n",
    "        for i in self.L:\n",
    "            i.display()\n",
    "            print(\"------------------------------------------\")\n",
    "            \n",
    "I = Inventory()\n",
    "I.addItem()\n",
    "I.addItem()\n",
    "I.addItem()\n",
    "I.addItem()\n",
    "I.addItem()\n",
    "I.displayItem()"
   ]
  },
  {
   "cell_type": "markdown",
   "metadata": {},
   "source": [
    "### 09) Create a Class with instance attributes"
   ]
  },
  {
   "cell_type": "code",
   "execution_count": null,
   "metadata": {},
   "outputs": [],
   "source": []
  },
  {
   "cell_type": "markdown",
   "metadata": {},
   "source": [
    "### 07)\n",
    "Create one class student_kit <br>\n",
    "Within the student_kit class create one class attribute principal name ( Mr ABC ) <br>\n",
    "Create one attendance method and take input as number of days. <br>\n",
    "While creating student take input their name . <br>\n",
    "Create one certificate for each student by taking input of number of days present in class. <br>"
   ]
  },
  {
   "cell_type": "code",
   "execution_count": null,
   "metadata": {},
   "outputs": [],
   "source": []
  },
  {
   "cell_type": "markdown",
   "metadata": {},
   "source": [
    "### 08) Define Time class with hour and minute as data member. Also define addition method to add two time objects."
   ]
  },
  {
   "cell_type": "code",
   "execution_count": null,
   "metadata": {},
   "outputs": [],
   "source": []
  },
  {
   "cell_type": "markdown",
   "metadata": {},
   "source": [
    "### 09) WAP to demonstrate inheritance in python."
   ]
  },
  {
   "cell_type": "code",
   "execution_count": null,
   "metadata": {},
   "outputs": [],
   "source": []
  },
  {
   "cell_type": "markdown",
   "metadata": {},
   "source": [
    "### 10) Create a child class Bus that will inherit all of the variables and methods of the Vehicle class\n",
    "class Vehicle:\n",
    "\n",
    "    def __init__(self, name, max_speed, mileage):\n",
    "        self.name = name\n",
    "        self.max_speed = max_speed\n",
    "        self.mileage = mileage\n",
    "        \n",
    "Create a Bus object that will inherit all of the variables and methods of the parent Vehicle class and display it.        "
   ]
  },
  {
   "cell_type": "code",
   "execution_count": null,
   "metadata": {},
   "outputs": [],
   "source": []
  },
  {
   "cell_type": "markdown",
   "metadata": {},
   "source": [
    "### 11)  Create a class hierarchy for different types of animals, with a parent Animal class and child classes for specific animals like Cat, Dog, and Bird."
   ]
  },
  {
   "cell_type": "code",
   "execution_count": null,
   "metadata": {},
   "outputs": [],
   "source": []
  },
  {
   "cell_type": "markdown",
   "metadata": {},
   "source": [
    "### 12) Create a class hierarchy for different types of vehicles, with a parent Vehicle class and child classes for specific vehicles like Car, Truck, and Motorcycle."
   ]
  },
  {
   "cell_type": "code",
   "execution_count": null,
   "metadata": {},
   "outputs": [],
   "source": []
  },
  {
   "cell_type": "markdown",
   "metadata": {},
   "source": [
    "### 13)  Create a class hierarchy for different types of bank accounts, with a parent Account class and child classes for specific account types like Checking, Savings, and Credit."
   ]
  },
  {
   "cell_type": "code",
   "execution_count": null,
   "metadata": {},
   "outputs": [],
   "source": []
  },
  {
   "cell_type": "markdown",
   "metadata": {},
   "source": [
    "### 14) Create a Shape class with a draw method that is not implemented. Create three child classes Rectangle, Circle, and Triangle that implement the draw method with their respective drawing behaviors. Create a list of Shape objects that includes one instance of each child class, and then iterate through the list and call the draw method on each object."
   ]
  },
  {
   "cell_type": "code",
   "execution_count": null,
   "metadata": {},
   "outputs": [],
   "source": []
  },
  {
   "cell_type": "markdown",
   "metadata": {},
   "source": [
    "### 15) Create a Person class with a constructor that takes two arguments name and age. Create a child class Employee that inherits from Person and adds a new attribute salary. Override the __init__ method in Employee to call the parent class's __init__ method using the super keyword, and then initialize the salary attribute."
   ]
  },
  {
   "cell_type": "code",
   "execution_count": null,
   "metadata": {},
   "outputs": [],
   "source": []
  }
 ],
 "metadata": {
  "kernelspec": {
   "display_name": "Python 3 (ipykernel)",
   "language": "python",
   "name": "python3"
  },
  "language_info": {
   "codemirror_mode": {
    "name": "ipython",
    "version": 3
   },
   "file_extension": ".py",
   "mimetype": "text/x-python",
   "name": "python",
   "nbconvert_exporter": "python",
   "pygments_lexer": "ipython3",
   "version": "3.9.13"
  }
 },
 "nbformat": 4,
 "nbformat_minor": 4
}
