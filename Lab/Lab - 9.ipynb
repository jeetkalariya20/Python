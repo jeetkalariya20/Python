{
 "cells": [
  {
   "cell_type": "markdown",
   "metadata": {},
   "source": [
    "<a href='https://www.darshan.ac.in/'> <img src='https://www.darshan.ac.in/Content/media/DU_Logo.svg' width=\"250\" height=\"300\"/></a>\n",
    "<pre>\n",
    "<center><b><h1>Python Programming - 2101CS405</b></center>\n",
    "<center><b><h1>Lab - 9</b></center>    \n",
    "<pre>"
   ]
  },
  {
   "cell_type": "markdown",
   "metadata": {},
   "source": [
    "# Exception Handling"
   ]
  },
  {
   "cell_type": "markdown",
   "metadata": {},
   "source": [
    "# A"
   ]
  },
  {
   "cell_type": "markdown",
   "metadata": {},
   "source": [
    "### 01) WAP to handle divide by zero exception."
   ]
  },
  {
   "cell_type": "code",
   "execution_count": 2,
   "metadata": {},
   "outputs": [
    {
     "name": "stdout",
     "output_type": "stream",
     "text": [
      "Enter n5\n",
      "Zero Division Error Occured...\n"
     ]
    }
   ],
   "source": [
    "try:\n",
    "    n=int(input(\"Enter n\"))\n",
    "    n/0\n",
    "except ZeroDivisionError:\n",
    "    print(\"Zero Division Error Occured...\")"
   ]
  },
  {
   "cell_type": "markdown",
   "metadata": {},
   "source": [
    "### 02)  Write a Python program that inputs a number and generates an error message if it is not a number."
   ]
  },
  {
   "cell_type": "code",
   "execution_count": 5,
   "metadata": {},
   "outputs": [
    {
     "name": "stdout",
     "output_type": "stream",
     "text": [
      "gfhfgfbghfhf\n",
      "Input is not a number...\n"
     ]
    }
   ],
   "source": [
    "try:\n",
    "    n=int(input())\n",
    "except ValueError:\n",
    "    print(\"Input is not a number...\")"
   ]
  },
  {
   "cell_type": "markdown",
   "metadata": {},
   "source": [
    "### 03) WAP to handle file not found Exception"
   ]
  },
  {
   "cell_type": "code",
   "execution_count": 8,
   "metadata": {},
   "outputs": [
    {
     "name": "stdout",
     "output_type": "stream",
     "text": [
      "File Not Found\n"
     ]
    }
   ],
   "source": [
    "try:\n",
    "    fileobj=open(\"abc.txt\")\n",
    "except:\n",
    "    print(\"File Not Found\")"
   ]
  },
  {
   "cell_type": "markdown",
   "metadata": {},
   "source": [
    "### 04) WAP to handle type Exception."
   ]
  },
  {
   "cell_type": "code",
   "execution_count": 10,
   "metadata": {},
   "outputs": [
    {
     "name": "stdout",
     "output_type": "stream",
     "text": [
      "Type Error is occured..\n"
     ]
    }
   ],
   "source": [
    "try:\n",
    "    n=10\n",
    "    print(\"abc\"+n)\n",
    "except TypeError:\n",
    "    print(\"Type Error is occured..\")"
   ]
  },
  {
   "cell_type": "markdown",
   "metadata": {},
   "source": [
    "### 05) WAP to demonstrate valueError and indexError with example."
   ]
  },
  {
   "cell_type": "code",
   "execution_count": 19,
   "metadata": {},
   "outputs": [
    {
     "name": "stdout",
     "output_type": "stream",
     "text": [
      "Enter n4\n",
      "index value occured\n"
     ]
    }
   ],
   "source": [
    "try:\n",
    "    n=int(input(\"Enter n\"))\n",
    "    arr_list=[1,2,3,4]\n",
    "    arr_list[5]\n",
    "except ValueError:\n",
    "    print(\"value error occured\")\n",
    "except IndexError:\n",
    "    print(\"index value occured\")"
   ]
  },
  {
   "cell_type": "markdown",
   "metadata": {},
   "source": [
    "### 06) WAP to domonstrate else  and finally block."
   ]
  },
  {
   "cell_type": "code",
   "execution_count": 25,
   "metadata": {},
   "outputs": [
    {
     "name": "stdout",
     "output_type": "stream",
     "text": [
      "Enter a:5\n",
      "Enter b:0\n",
      "division by zero\n",
      "finally...\n"
     ]
    }
   ],
   "source": [
    "try:\n",
    "    a=int(input(\"Enter a:\"))\n",
    "    b=int(input(\"Enter b:\"))\n",
    "    ans=a/b\n",
    "except ZeroDivisionError as e:\n",
    "    print(e)\n",
    "else:\n",
    "    print(ans)\n",
    "finally:\n",
    "    print(\"finally...\")"
   ]
  },
  {
   "cell_type": "markdown",
   "metadata": {},
   "source": [
    "### 07) Create a short program that prompts the user for a list of grades separated by commas. Split the string into individual grades and use a list comprehension to convert each string to an integer. You should use a try statement to inform the user when the values they entered cannot be converted."
   ]
  },
  {
   "cell_type": "code",
   "execution_count": 28,
   "metadata": {},
   "outputs": [
    {
     "name": "stdout",
     "output_type": "stream",
     "text": [
      "Enter String saperated By Comma : 1,2,3,abhi\n",
      "invalid literal for int() with base 10: 'abhi'\n"
     ]
    }
   ],
   "source": [
    "str=input(\"Enter String saperated By Comma : \")\n",
    "list=str.split(\",\")\n",
    "try:\n",
    "    for i in range(0,len(list)):\n",
    "        list[i]=int(list[i])\n",
    "except ValueError as e:\n",
    "    print(e)\n",
    "else:\n",
    "    print(list)"
   ]
  },
  {
   "cell_type": "markdown",
   "metadata": {},
   "source": []
  },
  {
   "cell_type": "markdown",
   "metadata": {},
   "source": [
    "# B"
   ]
  },
  {
   "cell_type": "markdown",
   "metadata": {},
   "source": [
    "### 01) WAP to Raising User Generated Exception."
   ]
  },
  {
   "cell_type": "code",
   "execution_count": 26,
   "metadata": {},
   "outputs": [
    {
     "name": "stdout",
     "output_type": "stream",
     "text": [
      "division by zero\n"
     ]
    }
   ],
   "source": [
    "try:\n",
    "    raise ZeroDivisionError\n",
    "except ZeroDivisionError:\n",
    "    print(\"division by zero\")"
   ]
  },
  {
   "cell_type": "markdown",
   "metadata": {},
   "source": [
    "### 02) WAP to raise your custom Exception."
   ]
  },
  {
   "cell_type": "code",
   "execution_count": 33,
   "metadata": {},
   "outputs": [
    {
     "name": "stdout",
     "output_type": "stream",
     "text": [
      "Enter Number-9\n",
      "Number is negative\n"
     ]
    }
   ],
   "source": [
    "class NegativeNumberException(Exception):\n",
    "    \"Raised when the input value is less than 0\"\n",
    "    def __init__(self, arg=\"custom error\"):\n",
    "        self.arg = arg\n",
    "\n",
    "try:\n",
    "    a = int(input(\"Enter Number\"))\n",
    "    if a > 0:\n",
    "        print(a)\n",
    "    else:\n",
    "        raise NegativeNumberException(\"Number is negative\")\n",
    "except NegativeNumberException as e:\n",
    "    print(e.arg)"
   ]
  }
 ],
 "metadata": {
  "kernelspec": {
   "display_name": "Python 3 (ipykernel)",
   "language": "python",
   "name": "python3"
  },
  "language_info": {
   "codemirror_mode": {
    "name": "ipython",
    "version": 3
   },
   "file_extension": ".py",
   "mimetype": "text/x-python",
   "name": "python",
   "nbconvert_exporter": "python",
   "pygments_lexer": "ipython3",
   "version": "3.9.13"
  }
 },
 "nbformat": 4,
 "nbformat_minor": 4
}
