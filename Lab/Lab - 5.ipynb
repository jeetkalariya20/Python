{
 "cells": [
  {
   "cell_type": "markdown",
   "metadata": {},
   "source": [
    "\n",
    "<a href='https://www.darshan.ac.in/'> <img src='https://www.darshan.ac.in/Content/media/DU_Logo.svg' width=\"250\" height=\"300\"/></a>\n",
    "<pre>\n",
    "<center><b><h1>Python Programming - 2101CS405</b></center>\n",
    "<center><b><h1>Lab - 5</b></center>    \n",
    "<pre>"
   ]
  },
  {
   "cell_type": "markdown",
   "metadata": {},
   "source": [
    "# list"
   ]
  },
  {
   "cell_type": "markdown",
   "metadata": {},
   "source": [
    "### 01) WAP to find sum of all the elements in List."
   ]
  },
  {
   "cell_type": "code",
   "execution_count": 7,
   "metadata": {},
   "outputs": [
    {
     "name": "stdout",
     "output_type": "stream",
     "text": [
      "Enter Number Of Element4\n",
      "Enter Eelment1\n",
      "Enter Eelment2\n",
      "Enter Eelment3\n",
      "Enter Eelment4\n",
      "[1, 2, 3, 4]\n",
      "10\n"
     ]
    }
   ],
   "source": [
    "listt=[]\n",
    "summ=0\n",
    "input1=0\n",
    "n=int(input(\"Enter Number Of Element\"))\n",
    "for i in range(n):\n",
    "    input1=int(input(\"Enter Eelment\"))\n",
    "    listt.append(input1)\n",
    "    summ=summ+input1\n",
    "print(listt)\n",
    "print(summ)"
   ]
  },
  {
   "cell_type": "markdown",
   "metadata": {},
   "source": [
    "### 02) WAP to find largest element in a List."
   ]
  },
  {
   "cell_type": "code",
   "execution_count": 8,
   "metadata": {},
   "outputs": [
    {
     "name": "stdout",
     "output_type": "stream",
     "text": [
      "Enter Number Of Element4\n",
      "Enter element:1\n",
      "Enter element:2\n",
      "Enter element:3\n",
      "Enter element:4\n",
      "Largest num is 4\n"
     ]
    }
   ],
   "source": [
    "listt=[]\n",
    "\n",
    "input1=0\n",
    "n=int(input(\"Enter Number Of Element\"))\n",
    "for i in range(n):\n",
    "    input1=int(input(\"Enter element:\"))\n",
    "    listt.append(input1)\n",
    "print(\"Largest num is\",max(listt))"
   ]
  },
  {
   "cell_type": "markdown",
   "metadata": {},
   "source": [
    "### 03) WAP to split the List into two and append the first part to the end."
   ]
  },
  {
   "cell_type": "code",
   "execution_count": 18,
   "metadata": {},
   "outputs": [
    {
     "name": "stdout",
     "output_type": "stream",
     "text": [
      "Enter Number Of Element4\n",
      "Enter Eelment1\n",
      "Enter Eelment2\n",
      "Enter Eelment3\n",
      "Enter Eelment4\n",
      "[3, 4, 1, 2]\n"
     ]
    }
   ],
   "source": [
    "listt=[]\n",
    "input1=0\n",
    "n=int(input(\"Enter Number Of Element\"))\n",
    "for i in range(n):\n",
    "    input1=int(input(\"Enter Eelment\"))\n",
    "    listt.append(input1)\n",
    "\n",
    "first=listt[0:int(len(listt)/2)]\n",
    "second=listt[int(len(listt)/2):]\n",
    "\n",
    "second+=first\n",
    "\n",
    "print(second)\n"
   ]
  },
  {
   "cell_type": "markdown",
   "metadata": {},
   "source": [
    "### 04) WAP to interchange first and last elements in list entered by a user."
   ]
  },
  {
   "cell_type": "code",
   "execution_count": 24,
   "metadata": {},
   "outputs": [
    {
     "name": "stdout",
     "output_type": "stream",
     "text": [
      "Enter Number Of Element : 4\n",
      "Enter Element:1\n",
      "Enter Element:2\n",
      "Enter Element:3\n",
      "Enter Element:4\n",
      "[4, 2, 3, 1]\n"
     ]
    }
   ],
   "source": [
    "listt = []\n",
    "input1 = 0\n",
    "n = int(input(\"Enter Number Of Element : \"))\n",
    "for i in range(n):\n",
    "    input1 = int(input(\"Enter Element:\"))\n",
    "    listt.append(input1)\n",
    "last_element = len(listt)-1\n",
    "listt[0] , listt[-1]=listt[-1] , listt[0]\n",
    "\n",
    "print(listt)"
   ]
  },
  {
   "cell_type": "markdown",
   "metadata": {},
   "source": [
    "### 05) WAP to interchange the elements on two positions entered by a user."
   ]
  },
  {
   "cell_type": "code",
   "execution_count": 31,
   "metadata": {},
   "outputs": [
    {
     "name": "stdout",
     "output_type": "stream",
     "text": [
      "Enter Number Of Element : 4\n",
      "10\n",
      "56\n",
      "35\n",
      "44\n",
      "Enter First Position : 2\n",
      "Enter Second Position : 3\n",
      "[10, 56, 44, 35]\n"
     ]
    }
   ],
   "source": [
    "list1 = []\n",
    "input1 = 0\n",
    "n = int(input(\"Enter Number Of Element : \"))\n",
    "for i in range(n):\n",
    "    input1 = int(input())\n",
    "    list1.append(input1)\n",
    "last_element = len(list1)-1\n",
    "n1 = int(input(\"Enter First Position : \"))\n",
    "n2 = int(input(\"Enter Second Position : \"))\n",
    "list1[n1],list1[n2]=list1[n2],list1[n1]\n",
    "print(list1)"
   ]
  },
  {
   "cell_type": "markdown",
   "metadata": {},
   "source": [
    "### 06) WAP to reverses the list entered by user."
   ]
  },
  {
   "cell_type": "code",
   "execution_count": 29,
   "metadata": {},
   "outputs": [
    {
     "name": "stdout",
     "output_type": "stream",
     "text": [
      "Enter Number Of Element4\n",
      "Enter Eelment1\n",
      "Enter Eelment2\n",
      "Enter Eelment3\n",
      "Enter Eelment4\n",
      "[4, 3, 2, 1]\n"
     ]
    }
   ],
   "source": [
    "listt=[]\n",
    "input1=0\n",
    "n=int(input(\"Enter Number Of Element\"))\n",
    "for i in range(n):\n",
    "    input1=int(input(\"Enter Eelment\"))\n",
    "    listt.append(input1)\n",
    "listt.reverse()\n",
    "print(listt)\n"
   ]
  },
  {
   "cell_type": "markdown",
   "metadata": {},
   "source": [
    "### 07) Python program to remove multiple elements from a list using list comprehension"
   ]
  },
  {
   "cell_type": "code",
   "execution_count": 33,
   "metadata": {},
   "outputs": [
    {
     "name": "stdout",
     "output_type": "stream",
     "text": [
      "Enter Number Of Element : 4\n",
      "Enter Element1\n",
      "Enter Element2\n",
      "Enter Element3\n",
      "Enter Element4\n",
      "Enter Number Of Element You Want To Delete: 2\n",
      "Enter Element You Want To Delete : 1\n",
      "Enter Element You Want To Delete : 2\n",
      "[3, 4]\n"
     ]
    }
   ],
   "source": [
    "listt = []\n",
    "input1 = 0\n",
    "n = int(input(\"Enter Number Of Element : \"))\n",
    "for i in range(n):\n",
    "    input1 = int(input(\"Enter Element\"))\n",
    "    listt.append(input1)\n",
    "n1 = int(input(\"Enter Number Of Element You Want To Delete: \"))\n",
    "for x in range(n1):\n",
    "    x = int(input(\"Enter Element You Want To Delete : \"))\n",
    "    listt.remove(x)\n",
    "print(listt)"
   ]
  },
  {
   "cell_type": "markdown",
   "metadata": {},
   "source": [
    "### 08) Create a list from the specified start to end index of another list."
   ]
  },
  {
   "cell_type": "code",
   "execution_count": 46,
   "metadata": {},
   "outputs": [
    {
     "name": "stdout",
     "output_type": "stream",
     "text": [
      "Enter Number Of Element : 4\n",
      "Enter Element1\n",
      "Enter Element2\n",
      "Enter Element3\n",
      "Enter Element4\n",
      "Enter Start Index : 1\n",
      "Enter End Index : 3\n",
      "[2, 3]\n"
     ]
    }
   ],
   "source": [
    "listt = []\n",
    "input1 = 0\n",
    "n = int(input(\"Enter Number Of Element : \"))\n",
    "for i in range(n):\n",
    "    input1 = int(input(\"Enter Element\"))\n",
    "    listt.append(input1)\n",
    "n1 = int(input(\"Enter Start Index : \"))\n",
    "n2 = int(input(\"Enter End Index : \"))\n",
    "listtt=listt[n1:n2]\n",
    "print(listtt)"
   ]
  },
  {
   "cell_type": "markdown",
   "metadata": {},
   "source": [
    "### 09) Input comma separated elements, convert into list and print."
   ]
  },
  {
   "cell_type": "code",
   "execution_count": 38,
   "metadata": {},
   "outputs": [
    {
     "name": "stdout",
     "output_type": "stream",
     "text": [
      "Enter Element : 4,5,6\n",
      "['4,5,6']\n"
     ]
    }
   ],
   "source": [
    "listt = []\n",
    "n1 = input(\"Enter Element : \")\n",
    "n1.split(\",\")\n",
    "listt.append(n1)\n",
    "print(listt)"
   ]
  },
  {
   "cell_type": "markdown",
   "metadata": {},
   "source": [
    "### 01) WAP to count Even and Odd numbers in a List."
   ]
  },
  {
   "cell_type": "code",
   "execution_count": 45,
   "metadata": {},
   "outputs": [
    {
     "name": "stdout",
     "output_type": "stream",
     "text": [
      "Enter Number Of Element : 4\n",
      "Enter Element12\n",
      "Enter Element65\n",
      "Enter Element89\n",
      "Enter Element45\n",
      "[12, 65, 89, 45]\n",
      "Odd Numbers : 3\n",
      "Even Numbers : 1\n"
     ]
    }
   ],
   "source": [
    "listt = []\n",
    "input1 = 0\n",
    "even_count = 0\n",
    "odd_count = 0\n",
    "n = int(input(\"Enter Number Of Element : \"))\n",
    "for i in range(n):\n",
    "    input1 = int(input(\"Enter Element\"))\n",
    "    listt.append(input1)\n",
    "    if listt[i]%2==0:\n",
    "        even_count +=1\n",
    "    elif listt[i]%2!=0:\n",
    "        odd_count +=1\n",
    "print(listt)\n",
    "print(f\"Odd Numbers : {odd_count}\")\n",
    "print(f\"Even Numbers : {even_count}\")"
   ]
  },
  {
   "cell_type": "markdown",
   "metadata": {},
   "source": [
    "### 02) Python program to find N largest and smallest elements from the list"
   ]
  },
  {
   "cell_type": "code",
   "execution_count": 43,
   "metadata": {},
   "outputs": [
    {
     "name": "stdout",
     "output_type": "stream",
     "text": [
      "Enter Number Of Element : 5\n",
      "Enter Element12\n",
      "Enter Element45\n",
      "Enter Element98\n",
      "Enter Element65\n",
      "Enter Element32\n",
      "Enter Number : 3\n",
      "Smallest :  [12, 32, 45]\n",
      "Largest :  [45, 65, 98]\n"
     ]
    }
   ],
   "source": [
    "listt = []\n",
    "input1 = 0\n",
    "n = int(input(\"Enter Number Of Element : \"))\n",
    "for i in range(n):\n",
    "    input1 = int(input(\"Enter Element\"))\n",
    "    listt.append(input1)\n",
    "listt.sort()\n",
    "n = int(input(\"Enter Number : \"))\n",
    "print(\"Smallest : \",listt[0:n])\n",
    "length = len(listt)-n\n",
    "print(\"Largest : \",listt[length:])"
   ]
  },
  {
   "cell_type": "markdown",
   "metadata": {},
   "source": [
    "### 03) WAP to print duplicates from a list of integers"
   ]
  },
  {
   "cell_type": "code",
   "execution_count": 50,
   "metadata": {},
   "outputs": [
    {
     "name": "stdout",
     "output_type": "stream",
     "text": [
      "Enter Number Of Element : 4\n",
      "Enter Element1\n",
      "Enter Element1\n",
      "Enter Element2\n",
      "Enter Element3\n",
      "[1]\n"
     ]
    }
   ],
   "source": [
    "listt = []\n",
    "uniqueList = []\n",
    "duplicateList = []\n",
    "input1 = 0\n",
    "n = int(input(\"Enter Number Of Element : \"))\n",
    "for i in range(n):\n",
    "    input1 = int(input(\"Enter Element\"))\n",
    "    listt.append(input1)\n",
    "listt.sort()\n",
    "for i in listt:\n",
    "    if i not in uniqueList:\n",
    "        uniqueList.append(i)\n",
    "    elif i not in duplicateList:\n",
    "        duplicateList.append(i)\n",
    "print(duplicateList)"
   ]
  }
 ],
 "metadata": {
  "kernelspec": {
   "display_name": "Python 3 (ipykernel)",
   "language": "python",
   "name": "python3"
  },
  "language_info": {
   "codemirror_mode": {
    "name": "ipython",
    "version": 3
   },
   "file_extension": ".py",
   "mimetype": "text/x-python",
   "name": "python",
   "nbconvert_exporter": "python",
   "pygments_lexer": "ipython3",
   "version": "3.9.12"
  }
 },
 "nbformat": 4,
 "nbformat_minor": 4
}
