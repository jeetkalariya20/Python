{
 "cells": [
  {
   "cell_type": "markdown",
   "metadata": {},
   "source": [
    "<a href='https://www.darshan.ac.in/'> <img src='https://www.darshan.ac.in/Content/media/DU_Logo.svg' width=\"250\" height=\"300\"/></a>\n",
    "<pre>\n",
    "<center><b><h1>Python Programming - 2101CS405</b></center>\n",
    "<center><b><h1>Lab - 1</b></center>    \n",
    "<pre>"
   ]
  },
  {
   "cell_type": "markdown",
   "metadata": {},
   "source": [
    "### 01) WAP to print “Hello World”"
   ]
  },
  {
   "cell_type": "code",
   "execution_count": 1,
   "metadata": {},
   "outputs": [
    {
     "name": "stdout",
     "output_type": "stream",
     "text": [
      "Hello World\n"
     ]
    }
   ],
   "source": [
    "print(\"Hello World\")"
   ]
  },
  {
   "cell_type": "markdown",
   "metadata": {},
   "source": [
    "### 02) WAP to print your address i) using single print ii) using multiple print"
   ]
  },
  {
   "cell_type": "code",
   "execution_count": 2,
   "metadata": {},
   "outputs": [
    {
     "name": "stdout",
     "output_type": "stream",
     "text": [
      "202-B-YOGI APP, UMIYANAGAR SOCIETY ,RAVAPAR-GHUNDA ROAD, MORBI\n"
     ]
    }
   ],
   "source": [
    "print(\"202-B-YOGI APP, UMIYANAGAR SOCIETY ,RAVAPAR-GHUNDA ROAD, MORBI\")"
   ]
  },
  {
   "cell_type": "code",
   "execution_count": 3,
   "metadata": {},
   "outputs": [
    {
     "name": "stdout",
     "output_type": "stream",
     "text": [
      "202-B-YOGI APP,\n",
      "UMIYANAGAR SOCIETY,\n",
      "RAVAPAR-GHUNDA ROAD,\n",
      "MORBI\n"
     ]
    }
   ],
   "source": [
    "print(\"202-B-YOGI APP,\")\n",
    "print(\"UMIYANAGAR SOCIETY,\")\n",
    "print(\"RAVAPAR-GHUNDA ROAD,\")\n",
    "print(\"MORBI\")"
   ]
  },
  {
   "cell_type": "markdown",
   "metadata": {},
   "source": [
    "### 03) WAP to print addition of 2 numbers (without input function)"
   ]
  },
  {
   "cell_type": "code",
   "execution_count": 4,
   "metadata": {},
   "outputs": [
    {
     "name": "stdout",
     "output_type": "stream",
     "text": [
      "addition  11\n"
     ]
    }
   ],
   "source": [
    "print(\"addition \",5+6)"
   ]
  },
  {
   "cell_type": "markdown",
   "metadata": {},
   "source": [
    "### 04) WAP to calculate and print average of 2 numbers (without input function)"
   ]
  },
  {
   "cell_type": "code",
   "execution_count": 5,
   "metadata": {},
   "outputs": [
    {
     "name": "stdout",
     "output_type": "stream",
     "text": [
      "average  5.0\n"
     ]
    }
   ],
   "source": [
    "print(\"average \",(5+5)/2)"
   ]
  },
  {
   "cell_type": "markdown",
   "metadata": {},
   "source": [
    "### 05) WAP to add two number entered by user."
   ]
  },
  {
   "cell_type": "code",
   "execution_count": 6,
   "metadata": {},
   "outputs": [
    {
     "name": "stdout",
     "output_type": "stream",
     "text": [
      "enter a:3\n",
      "enter b:3\n",
      "addition is  6\n"
     ]
    }
   ],
   "source": [
    "a=int(input(\"enter a:\"))\n",
    "b=int(input(\"enter b:\"))\n",
    "c=a+b\n",
    "print(\"addition is \",c)"
   ]
  },
  {
   "cell_type": "markdown",
   "metadata": {},
   "source": [
    "### 06) WAP to calculate simple interest."
   ]
  },
  {
   "cell_type": "code",
   "execution_count": 7,
   "metadata": {},
   "outputs": [
    {
     "name": "stdout",
     "output_type": "stream",
     "text": [
      "enter p10\n",
      "enter r10\n",
      "enter n1\n",
      "ans  1.0\n"
     ]
    }
   ],
   "source": [
    "p=int(input(\"enter p\"))\n",
    "r=int(input(\"enter r\"))\n",
    "n=int(input(\"enter n\"))\n",
    "print(\"ans \",(p*r*n)/100)"
   ]
  },
  {
   "cell_type": "markdown",
   "metadata": {},
   "source": [
    "### 07) WAP Calculate Area and Circumfrence of Circle"
   ]
  },
  {
   "cell_type": "code",
   "execution_count": 14,
   "metadata": {},
   "outputs": [
    {
     "name": "stdout",
     "output_type": "stream",
     "text": [
      "enter r1\n",
      "area is  3.14\n"
     ]
    }
   ],
   "source": [
    "r=float(input(\"enter r\"))\n",
    "print(\"area is \",3.14*r*r)"
   ]
  },
  {
   "cell_type": "markdown",
   "metadata": {},
   "source": [
    "### 08) WAP to print Multiplication table of given number without using loops."
   ]
  },
  {
   "cell_type": "code",
   "execution_count": 8,
   "metadata": {},
   "outputs": [
    {
     "name": "stdout",
     "output_type": "stream",
     "text": [
      "enter n2\n",
      "2 * 1 = 2, 2 * 2 = 4, 2 * 3 = 6, 2 * 4 = 8, 2 * 5 = 10, 2 * 6 = 12, 2 * 7 = 14, 2 * 8 = 16, 2 * 9 = 18, 2 * 10 = 20, "
     ]
    }
   ],
   "source": [
    "n=int(input(\"enter n\"))\n",
    "print(n,\"*\",1,\"=\",n*1,sep=\" \",end=\", \")\n",
    "print(n,\"*\",2,\"=\",n*2,sep=\" \",end=\", \")\n",
    "print(n,\"*\",3,\"=\",n*3,sep=\" \",end=\", \")\n",
    "print(n,\"*\",4,\"=\",n*4,sep=\" \",end=\", \")\n",
    "print(n,\"*\",5,\"=\",n*5,sep=\" \",end=\", \")\n",
    "print(n,\"*\",6,\"=\",n*6,sep=\" \",end=\", \")\n",
    "print(n,\"*\",7,\"=\",n*7,sep=\" \",end=\", \")\n",
    "print(n,\"*\",8,\"=\",n*8,sep=\" \",end=\", \")\n",
    "print(n,\"*\",9,\"=\",n*9,sep=\" \",end=\", \")\n",
    "print(n,\"*\",10,\"=\",n*10,sep=\" \",end=\", \")"
   ]
  },
  {
   "cell_type": "markdown",
   "metadata": {},
   "source": [
    "### 09) WAP to calculate Area of Triangle (hint: a = h * b * 0.5)"
   ]
  },
  {
   "cell_type": "code",
   "execution_count": 9,
   "metadata": {},
   "outputs": [
    {
     "name": "stdout",
     "output_type": "stream",
     "text": [
      "enter h1\n",
      "enter b1\n",
      "area  0.5\n"
     ]
    }
   ],
   "source": [
    "h=int(input(\"enter h\"))\n",
    "b=int(input(\"enter b\"))\n",
    "print(\"area \",(h*b)/2)"
   ]
  },
  {
   "cell_type": "markdown",
   "metadata": {},
   "source": [
    "### 10) WAP to convert degree to Fahrenheit and vice versa."
   ]
  },
  {
   "cell_type": "code",
   "execution_count": 13,
   "metadata": {},
   "outputs": [
    {
     "name": "stdout",
     "output_type": "stream",
     "text": [
      "enter celcius: 10\n",
      "farenheit 50.0\n",
      "enter f: 20\n",
      "celcius  -6.666666666666667\n"
     ]
    }
   ],
   "source": [
    "c=float(input(\"enter celcius: \"))\n",
    "print(\"farenheit\",(c * (9/5))+32)\n",
    "f=float(input(\"enter f: \"))\n",
    "print(\"celcius \",((f-32)*(5/9)))"
   ]
  },
  {
   "cell_type": "markdown",
   "metadata": {},
   "source": [
    "### 11) WAP to calculate total marks and Percentage."
   ]
  },
  {
   "cell_type": "code",
   "execution_count": 10,
   "metadata": {},
   "outputs": [
    {
     "name": "stdout",
     "output_type": "stream",
     "text": [
      "enter s170\n",
      "enter s270\n",
      "enter s370\n",
      "enter s470\n",
      "enter s570\n",
      "100.0\n"
     ]
    }
   ],
   "source": [
    "s1=float(input(\"enter s1\"))\n",
    "s2=float(input(\"enter s2\"))\n",
    "s3=float(input(\"enter s3\"))\n",
    "s4=float(input(\"enter s4\"))\n",
    "s5=float(input(\"enter s5\"))\n",
    "per=((s1+s2+s3+s4+s5)*100)/350\n",
    "print(per)"
   ]
  },
  {
   "cell_type": "markdown",
   "metadata": {},
   "source": [
    "### 12) Compute distance between two points taking input from the user (Pythagorean Theorem)."
   ]
  },
  {
   "cell_type": "code",
   "execution_count": 12,
   "metadata": {},
   "outputs": [
    {
     "name": "stdout",
     "output_type": "stream",
     "text": [
      "enter x11\n",
      "enter y11\n",
      "enter x21\n",
      "enter y21\n",
      "ans  0.0\n"
     ]
    }
   ],
   "source": [
    "x1=float(input(\"enter x1\"))\n",
    "y1=float(input(\"enter y1\"))\n",
    "x2=float(input(\"enter x2\"))\n",
    "y2=float(input(\"enter y2\"))\n",
    "a=(x2-x1)**2\n",
    "b=(y2-y1)**2\n",
    "print(\"ans \",(a+b)**0.5)"
   ]
  },
  {
   "cell_type": "markdown",
   "metadata": {},
   "source": [
    "### 13) WAP to convert seconds into hours, minutes & seconds and print in HH:MM:SS\n",
    "[e.g. 10000 seconds mean 2:46:40 (2 Hours, 46 Minutes, 40Seconds)]"
   ]
  },
  {
   "cell_type": "code",
   "execution_count": 11,
   "metadata": {},
   "outputs": [
    {
     "name": "stdout",
     "output_type": "stream",
     "text": [
      "enter sec10000\n",
      "2 46 40\n"
     ]
    }
   ],
   "source": [
    "sec=int(input(\"enter sec\"))\n",
    "h=sec//3600\n",
    "sec=sec%3600\n",
    "m=sec//60\n",
    "s=sec%60\n",
    "print(h,m,s)"
   ]
  },
  {
   "cell_type": "markdown",
   "metadata": {},
   "source": [
    "### 14) WAP to enter distance into kilometer and convert it into meter, feet,inches, and centimeter"
   ]
  },
  {
   "cell_type": "code",
   "execution_count": 17,
   "metadata": {},
   "outputs": [
    {
     "name": "stdout",
     "output_type": "stream",
     "text": [
      "enter kilometer1\n",
      "1000 100000 3280.84 39370.08\n"
     ]
    }
   ],
   "source": [
    "km=int(input(\"enter kilometer\"))\n",
    "m=km*1000\n",
    "cm=km*1000*100\n",
    "feet=km*3280.84\n",
    "inches=feet*12\n",
    "print(m,cm,feet,inches)"
   ]
  },
  {
   "cell_type": "code",
   "execution_count": null,
   "metadata": {},
   "outputs": [],
   "source": []
  }
 ],
 "metadata": {
  "kernelspec": {
   "display_name": "Python 3 (ipykernel)",
   "language": "python",
   "name": "python3"
  },
  "language_info": {
   "codemirror_mode": {
    "name": "ipython",
    "version": 3
   },
   "file_extension": ".py",
   "mimetype": "text/x-python",
   "name": "python",
   "nbconvert_exporter": "python",
   "pygments_lexer": "ipython3",
   "version": "3.9.13"
  }
 },
 "nbformat": 4,
 "nbformat_minor": 4
}
